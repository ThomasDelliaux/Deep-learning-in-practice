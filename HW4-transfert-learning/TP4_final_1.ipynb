{
  "cells": [
    {
      "cell_type": "markdown",
      "source": [
        "# **Practical session on Transfer Learning**\n",
        "This Pratical session proposes to study several techniques for improving challenging context, in which few data and resources are available."
      ],
      "metadata": {
        "id": "4jVkOWmgFT1p"
      }
    },
    {
      "cell_type": "code",
      "source": [
        "#@title Imports\n",
        "import torch\n",
        "import torch.nn as nn\n",
        "import torch.nn.functional as F\n",
        "import torchvision\n",
        "import torchvision.transforms as transforms\n",
        "import matplotlib.pyplot as plt\n",
        "import numpy as np\n",
        "from torch.utils.data import DataLoader, Subset\n",
        "from torchvision.models import resnet18, ResNet18_Weights\n",
        "from tqdm import tqdm\n",
        "from IPython.display import display, Markdown"
      ],
      "metadata": {
        "id": "bfO0GidImAHA"
      },
      "execution_count": 2,
      "outputs": []
    },
    {
      "cell_type": "code",
      "source": [
        "torch.manual_seed(0)"
      ],
      "metadata": {
        "colab": {
          "base_uri": "https://localhost:8080/"
        },
        "id": "eLUpQTEiMC8i",
        "outputId": "aa4c0d33-e746-4789-fc7e-c5b3c28dd65e"
      },
      "execution_count": 3,
      "outputs": [
        {
          "output_type": "execute_result",
          "data": {
            "text/plain": [
              "<torch._C.Generator at 0x7f8f50297450>"
            ]
          },
          "metadata": {},
          "execution_count": 3
        }
      ]
    },
    {
      "cell_type": "code",
      "source": [
        "#@title Running experiments functions\n",
        "\n",
        "def train(epochs, model, loss_fc, optimizer, train_dataloader,pretrained=False):\n",
        "    model.train()\n",
        "    device = torch.device(\"cuda\" if torch.cuda.is_available() else \"cpu\")\n",
        "    model.to(device)\n",
        "    scheduler = torch.optim.lr_scheduler.StepLR(optimizer, 10)\n",
        "    list_loss = []\n",
        "    list_accuracy = []\n",
        "    for epoch in range(epochs):\n",
        "        if epochs-epoch==10 and pretrained:\n",
        "          for param in pretrained_model.layer4.parameters():\n",
        "            param.requires_grad = True\n",
        "        losses = []\n",
        "        accuracy = []\n",
        "        for batch_idx, (inputs, targets) in enumerate(train_dataloader):\n",
        "            inputs, targets = inputs.to(device), targets.to(device)\n",
        "            optimizer.zero_grad()\n",
        "            outputs = model(inputs)\n",
        "            loss = loss_fc(outputs, targets)\n",
        "            loss.backward()\n",
        "            optimizer.step()\n",
        "\n",
        "            losses.append(loss.item())\n",
        "            _, predicted = outputs.max(axis=1)\n",
        "            accuracy.append(predicted.eq(targets).float().mean().item())\n",
        "\n",
        "        scheduler.step()\n",
        "        loss = np.array(losses).mean()\n",
        "        accuracy = np.array(accuracy).mean()\n",
        "        print(\"Epoch {:05d} | Loss: {:.4f}, Accuracy = {:.2f}%\".format(epoch + 1, loss, accuracy*100))\n",
        "        list_loss.append(loss)\n",
        "        list_accuracy.append(accuracy)\n",
        "\n",
        "    return accuracy, list_loss, list_accuracy\n",
        "\n",
        "def test(model, loss_fc, test_dataloader):\n",
        "    model.eval()\n",
        "    device = torch.device(\"cuda\" if torch.cuda.is_available() else \"cpu\")\n",
        "    model.to(device)\n",
        "    \n",
        "    accuracy = []\n",
        "    losses = []\n",
        "\n",
        "    with torch.no_grad():\n",
        "        progress_bar = tqdm(enumerate(test_dataloader), desc=\"Testing\", total=len(test_dataloader))\n",
        "        for batch_idx, (inputs, targets) in progress_bar:\n",
        "            inputs, targets = inputs.to(device), targets.to(device)\n",
        "            outputs = model(inputs)\n",
        "            loss = loss_fc(outputs, targets)\n",
        "\n",
        "            losses.append(loss.item())\n",
        "            _, predicted = outputs.max(axis=1)\n",
        "            accuracy.append(predicted.eq(targets).float().mean().item())\n",
        "\n",
        "    loss = np.array(losses).mean()\n",
        "    accuracy = np.array(accuracy).mean()\n",
        "    progress_bar.set_postfix({'loss': f'{loss:.3f}', 'accuracy': f'{accuracy*100:.2f}%'})\n",
        "    \n",
        "    return accuracy\n",
        "\n",
        "def run_experiment( model, max_epochs, loss_fc, optimizer, train_dataloader, test_dataloader,pretrained=False):\n",
        "\n",
        "    train_acc, list_loss, list_accuracy = train(max_epochs, model, loss_fc, optimizer, train_dataloader,pretrained)\n",
        "    test_acc = test(model, loss_fc, test_dataloader)\n",
        "    \n",
        "    return train_acc, test_acc, list_loss, list_accuracy"
      ],
      "metadata": {
        "id": "PpayPTXqm2Ne"
      },
      "execution_count": 4,
      "outputs": []
    },
    {
      "cell_type": "markdown",
      "metadata": {
        "id": "QLKnIngy_2hg"
      },
      "source": [
        "# Introduction\n",
        "\n",
        "**Context :**\n",
        "\n",
        "Assume we are in a context where few \"gold\" labeled data are available for training, say \n",
        "\n",
        "$$\\mathcal{X}_{\\text{train}} = \\{(x_n,y_n)\\}_{n\\leq N_{\\text{train}}}$$\n",
        "\n",
        "where $N_{\\text{train}}$ is small. \n",
        "\n",
        "A large test set $\\mathcal{X}_{\\text{test}}$ as well as a large amount of unlabeled data, $\\mathcal{X}$, is available. We also assume that we have a limited computational budget (e.g., no GPUs).\n",
        "\n",
        "**Instructions to follow :** \n",
        "\n",
        "For each question, write a commented *Code* or a complete answer as a *Markdown*. When the objective of a question is to report a CNN accuracy, please use the following format to report it, at the end of the question :\n",
        "\n",
        "| Model | Number of  epochs  | Train accuracy | Test accuracy |\n",
        "|------|------|------|------|\n",
        "|   XXX  | XXX | XXX | XXX |\n",
        "\n",
        "If applicable, please add the field corresponding to the  __Accuracy on Full Data__ as well as a link to the __Reference paper__ you used to report those numbers. (You do not need to train a CNN on the full CIFAR10 dataset!)\n",
        "\n",
        "In your final report, please *keep the logs of each training procedure* you used. We will only run this jupyter if we have some doubts on your implementation. \n",
        "\n",
        "The total file sizes should be reasonable (feasible with 2MB only!). You will be asked to hand in the notebook, together with any necessary files required to run it if any.\n",
        "\n",
        "You can use https://colab.research.google.com/ to run your experiments."
      ]
    },
    {
      "cell_type": "markdown",
      "metadata": {
        "id": "YmTCQPSh_2hg"
      },
      "source": [
        "## Training set creation\n",
        "__Question 1 (2 points) :__ Propose a dataloader to obtain a training loader that will only use the first 100 samples of the CIFAR-10 training set.\n",
        "\n",
        "Additional information :  \n",
        "\n",
        "*   CIFAR10 dataset : https://en.wikipedia.org/wiki/CIFAR-10\n",
        "*   You can directly use the dataloader framework from Pytorch.\n",
        "*   Alternatively you can modify the file : https://github.com/pytorch/vision/blob/master/torchvision/datasets/cifar.py"
      ]
    },
    {
      "cell_type": "code",
      "source": [
        "batch_size = 16\n",
        "subset_size = 100\n",
        "max_epochs_1 = 30\n",
        "lr=0.001\n",
        "loss_fc = nn.CrossEntropyLoss()"
      ],
      "metadata": {
        "id": "pa_quyKNP0ec"
      },
      "execution_count": 5,
      "outputs": []
    },
    {
      "cell_type": "code",
      "execution_count": 6,
      "metadata": {
        "id": "uZkC5IxR_2hh",
        "colab": {
          "base_uri": "https://localhost:8080/",
          "height": 84,
          "referenced_widgets": [
            "a0a735cdb9f440e9adb580505ec746da",
            "b8296cfc2b6d4713a4f5a0a7dd7d9a6e",
            "e73e667edc4d431e94cdea1a0de2e988",
            "fd50385378fc46bfbce08f51f4875749",
            "f3fe5440981b437b9edf1a84fdda441a",
            "a80bd6637b764639bbce8d58b6ad9534",
            "c616a42b3c7749fda1340100171d28e7",
            "bbc6b3e3f2804a218b2be27335413df3",
            "21e955df1b924f37a316fdaa35b5f645",
            "9e37203d794d44aea6c9108a0a245703",
            "5387696149a04ba8918ea8340f24f5a8"
          ]
        },
        "outputId": "880da77b-0db5-4152-b4ef-8d7c81bb6cc1"
      },
      "outputs": [
        {
          "output_type": "stream",
          "name": "stdout",
          "text": [
            "Downloading https://www.cs.toronto.edu/~kriz/cifar-10-python.tar.gz to ./data/cifar-10-python.tar.gz\n"
          ]
        },
        {
          "output_type": "display_data",
          "data": {
            "text/plain": [
              "  0%|          | 0/170498071 [00:00<?, ?it/s]"
            ],
            "application/vnd.jupyter.widget-view+json": {
              "version_major": 2,
              "version_minor": 0,
              "model_id": "a0a735cdb9f440e9adb580505ec746da"
            }
          },
          "metadata": {}
        },
        {
          "output_type": "stream",
          "name": "stdout",
          "text": [
            "Extracting ./data/cifar-10-python.tar.gz to ./data\n"
          ]
        }
      ],
      "source": [
        "#@title Download datas\n",
        "\n",
        "transform_simple = transforms.Compose(\n",
        "    [transforms.ToTensor(),\n",
        "     transforms.Normalize((0.5, 0.5, 0.5), (0.5, 0.5, 0.5))])\n",
        "\n",
        "# Sets\n",
        "trainset = torchvision.datasets.CIFAR10(root='./data', train=True, download=True, transform=transform_simple)\n",
        "testset = torchvision.datasets.CIFAR10(root='./data', train=False, transform=transform_simple)\n",
        "\n",
        "# Subset\n",
        "sub_trainset = Subset(trainset, np.arange(subset_size))\n",
        "\n",
        "# DataLoader\n",
        "train_dataloader = DataLoader(sub_trainset, batch_size=batch_size, shuffle=True)\n",
        "test_dataloader = DataLoader(testset, batch_size=batch_size, shuffle=True)"
      ]
    },
    {
      "cell_type": "markdown",
      "metadata": {
        "id": "fUno1nmu_2hh"
      },
      "source": [
        "* This is our dataset $\\mathcal{X}_{\\text{train}}$, it will be used until the end of this project. \n",
        "\n",
        "* The remaining samples correspond to $\\mathcal{X}$. \n",
        "\n",
        "* The testing set $\\mathcal{X}_{\\text{test}}$ corresponds to the whole testing set of CIFAR-10."
      ]
    },
    {
      "cell_type": "markdown",
      "metadata": {
        "id": "Vr0d4o5L_2hi"
      },
      "source": [
        "## Testing procedure\n",
        "__Question 2 (1.5 points):__ Explain why the evaluation of the training procedure is difficult. Propose several solutions."
      ]
    },
    {
      "cell_type": "markdown",
      "metadata": {
        "id": "ppiTrnpd_2hi"
      },
      "source": [
        "The evaluation of the training procedure is difficult in this context due to several factors:\n",
        "\n",
        "* **Small labeled dataset ($N_{train}$ is small):** With a limited number of labeled data points, training a model becomes challenging because there is not enough information to learn the underlying patterns in the data. This can lead to overfitting, where the model performs well on the training set but poorly on the test set.\n",
        "\n",
        "* **Limited computational budget:** Without powerful computational resources, like GPUs, training complex models with large datasets becomes time-consuming and computationally expensive.\n",
        "\n",
        "* **Large unlabeled dataset:** Although there's a large amount of unlabeled data available, these data points are not directly useful for supervised learning tasks without labels. Additionally, it's not clear how well the model will generalize to the test set given the limited labeled data.\n",
        "\n",
        "To address these challenges, you can consider the following solutions:\n",
        "\n",
        "* **Data augmentation:** Increase the size of the training dataset by applying various data augmentation techniques, such as rotations, translations, and flips. This can help the model learn more about the underlying patterns in the data and improve generalization.\n",
        "\n",
        "* **Transfer learning:** Use a pre-trained model on a similar task or dataset and fine-tune it with the small labeled dataset. This can save computational resources and leverage the knowledge gained from the pre-trained model.\n",
        "\n",
        "* **Semi-supervised learning:** Make use of the large unlabeled dataset by employing semi-supervised learning techniques, such as self-training, co-training, or pseudo-labeling. These methods can leverage the unlabeled data to improve the model's performance.\n",
        "\n",
        "* **Active learning:** Actively query the most informative instances from the unlabeled dataset and obtain their labels. This can help focus the labeling efforts on the most valuable data points and improve model performance with fewer labeled samples.\n",
        "\n",
        "* **Ensemble methods:** Train multiple models with different architectures or parameters and combine their predictions. This can improve generalization and reduce overfitting.\n",
        "\n",
        "* **Regularization:** Apply regularization techniques, such as L1 or L2 regularization, to prevent overfitting and improve generalization.\n",
        "\n",
        "* **Cross-validation:** Use cross-validation techniques to better estimate the model's performance on unseen data. This can help in model selection and hyperparameter tuning.\n",
        "\n",
        "By applying these strategies, you can mitigate the difficulties associated with the evaluation of the training procedure given the limited labeled data and computational budget."
      ]
    },
    {
      "cell_type": "markdown",
      "metadata": {
        "id": "OEaIwILB_2hi"
      },
      "source": [
        "# The Baseline"
      ]
    },
    {
      "cell_type": "markdown",
      "metadata": {
        "id": "M-PQZ2Vl_2hi"
      },
      "source": [
        "In this section, the goal is to train a CNN on $\\mathcal{X}_{\\text{train}}$ and compare its performance with reported numbers from the litterature. You will have to re-use and/or design a standard classification pipeline. You should optimize your pipeline to obtain the best performances (image size, data augmentation by flip, ...).\n",
        "\n",
        "The key ingredients for training a CNN are the batch size, as well as the learning rate scheduler (i.e. how to decrease the learning rate as a function of the number of epochs). A possible scheduler is to start the learning rate at 0.1 and decreasing it every 30 epochs by 10. In case of divergence, reduce the learning rate. A potential batch size could be 10, yet this can be cross-validated.\n",
        "\n",
        "You can get some baselines accuracies in this paper (obviously, it is a different context for those researchers who had access to GPUs!) : http://openaccess.thecvf.com/content_cvpr_2018/papers/Keshari_Learning_Structure_and_CVPR_2018_paper.pdf. "
      ]
    },
    {
      "cell_type": "markdown",
      "metadata": {
        "id": "ARHWPXrY_2hi"
      },
      "source": [
        "## ResNet architectures"
      ]
    },
    {
      "cell_type": "markdown",
      "metadata": {
        "id": "voMbGoNw_2hj"
      },
      "source": [
        "__Question 3 (4 points) :__ Write a classification pipeline for $\\mathcal{X}_{\\text{train}}$, train from scratch and evaluate a *ResNet-18* architecture specific to CIFAR10 (details about the ImageNet model can be found here: https://arxiv.org/abs/1512.03385). Please report the accuracy obtained on the whole dataset as well as the reference paper/GitHub link.\n",
        "\n",
        "*Hint :* You can re-use the following code : https://github.com/kuangliu/pytorch-cifar. During a training of 10 epochs, a batch size of 10 and a learning rate of 0.01, one obtains 40% accuracy on $\\mathcal{X}_{\\text{train}}$ (\\~2 minutes) and 20% accuracy on $\\mathcal{X}_{\\text{test}}$ (\\~5 minutes)."
      ]
    },
    {
      "cell_type": "code",
      "execution_count": 7,
      "metadata": {
        "id": "RVHhKmWN_2hj"
      },
      "outputs": [],
      "source": [
        "#@title ResNet architectures\n",
        "\n",
        "class BasicBlock(nn.Module):\n",
        "    expansion = 1\n",
        "\n",
        "    def __init__(self, in_planes, planes, stride=1):\n",
        "        super(BasicBlock, self).__init__()\n",
        "        self.conv1 = nn.Conv2d(\n",
        "            in_planes, planes, kernel_size=3, stride=stride, padding=1, bias=False)\n",
        "        self.bn1 = nn.BatchNorm2d(planes)\n",
        "        self.conv2 = nn.Conv2d(planes, planes, kernel_size=3,\n",
        "                               stride=1, padding=1, bias=False)\n",
        "        self.bn2 = nn.BatchNorm2d(planes)\n",
        "\n",
        "        self.shortcut = nn.Sequential()\n",
        "        if stride != 1 or in_planes != self.expansion*planes:\n",
        "            self.shortcut = nn.Sequential(\n",
        "                nn.Conv2d(in_planes, self.expansion*planes,\n",
        "                          kernel_size=1, stride=stride, bias=False),\n",
        "                nn.BatchNorm2d(self.expansion*planes)\n",
        "            )\n",
        "\n",
        "    def forward(self, x):\n",
        "        out = F.relu(self.bn1(self.conv1(x)))\n",
        "        out = self.bn2(self.conv2(out))\n",
        "        out += self.shortcut(x)\n",
        "        out = F.relu(out)\n",
        "        return out\n",
        "\n",
        "class Bottleneck(nn.Module):\n",
        "    expansion = 4\n",
        "\n",
        "    def __init__(self, in_planes, planes, stride=1):\n",
        "        super(Bottleneck, self).__init__()\n",
        "        self.conv1 = nn.Conv2d(in_planes, planes, kernel_size=1, bias=False)\n",
        "        self.bn1 = nn.BatchNorm2d(planes)\n",
        "        self.conv2 = nn.Conv2d(planes, planes, kernel_size=3,\n",
        "                               stride=stride, padding=1, bias=False)\n",
        "        self.bn2 = nn.BatchNorm2d(planes)\n",
        "        self.conv3 = nn.Conv2d(planes, self.expansion *\n",
        "                               planes, kernel_size=1, bias=False)\n",
        "        self.bn3 = nn.BatchNorm2d(self.expansion*planes)\n",
        "\n",
        "        self.shortcut = nn.Sequential()\n",
        "        if stride != 1 or in_planes != self.expansion*planes:\n",
        "            self.shortcut = nn.Sequential(\n",
        "                nn.Conv2d(in_planes, self.expansion*planes,\n",
        "                          kernel_size=1, stride=stride, bias=False),\n",
        "                nn.BatchNorm2d(self.expansion*planes)\n",
        "            )\n",
        "\n",
        "    def forward(self, x):\n",
        "        out = F.relu(self.bn1(self.conv1(x)))\n",
        "        out = F.relu(self.bn2(self.conv2(out)))\n",
        "        out = self.bn3(self.conv3(out))\n",
        "        out += self.shortcut(x)\n",
        "        out = F.relu(out)\n",
        "        return out\n",
        "\n",
        "\n",
        "class ResNet(nn.Module):\n",
        "    def __init__(self, block, num_blocks, num_classes=10):\n",
        "        super(ResNet, self).__init__()\n",
        "        self.in_planes = 64\n",
        "\n",
        "        self.conv1 = nn.Conv2d(3, 64, kernel_size=3,\n",
        "                               stride=1, padding=1, bias=False)\n",
        "        self.bn1 = nn.BatchNorm2d(64)\n",
        "        self.layer1 = self._make_layer(block, 64, num_blocks[0], stride=1)\n",
        "        self.layer2 = self._make_layer(block, 128, num_blocks[1], stride=2)\n",
        "        self.layer3 = self._make_layer(block, 256, num_blocks[2], stride=2)\n",
        "        self.layer4 = self._make_layer(block, 512, num_blocks[3], stride=2)\n",
        "        self.linear = nn.Linear(512*block.expansion, num_classes)\n",
        "\n",
        "    def _make_layer(self, block, planes, num_blocks, stride):\n",
        "        strides = [stride] + [1]*(num_blocks-1)\n",
        "        layers = []\n",
        "        for stride in strides:\n",
        "            layers.append(block(self.in_planes, planes, stride))\n",
        "            self.in_planes = planes * block.expansion\n",
        "        return nn.Sequential(*layers)\n",
        "\n",
        "    def forward(self, x):\n",
        "        out = F.relu(self.bn1(self.conv1(x)))\n",
        "        out = self.layer1(out)\n",
        "        out = self.layer2(out)\n",
        "        out = self.layer3(out)\n",
        "        out = self.layer4(out)\n",
        "        out = F.avg_pool2d(out, 4)\n",
        "        out = out.view(out.size(0), -1)\n",
        "        out = self.linear(out)\n",
        "        return out\n",
        "\n",
        "def net():\n",
        "    return ResNet(BasicBlock, [2, 2, 2, 2])"
      ]
    },
    {
      "cell_type": "code",
      "source": [
        "batch_size = 16\n",
        "subset_size = 100\n",
        "max_epochs_1 = 30\n",
        "lr=0.001\n",
        "loss_fc = nn.CrossEntropyLoss()"
      ],
      "metadata": {
        "id": "Tdy5q-LF1chV"
      },
      "execution_count": 8,
      "outputs": []
    },
    {
      "cell_type": "code",
      "source": [
        "transform_simple = transforms.Compose(\n",
        "    [transforms.ToTensor(),\n",
        "     transforms.Normalize((0.5, 0.5, 0.5), (0.5, 0.5, 0.5))])\n",
        "\n",
        "# Sets\n",
        "trainset = torchvision.datasets.CIFAR10(root='./data', train=True, download=True, transform=transform_simple)\n",
        "testset = torchvision.datasets.CIFAR10(root='./data', train=False, transform=transform_simple)\n",
        "\n",
        "# Subset\n",
        "sub_trainset = Subset(trainset, np.arange(subset_size))\n",
        "\n",
        "# DataLoader\n",
        "train_dataloader = DataLoader(sub_trainset, batch_size=batch_size, shuffle=True)\n",
        "test_dataloader = DataLoader(testset, batch_size=batch_size, shuffle=True)"
      ],
      "metadata": {
        "colab": {
          "base_uri": "https://localhost:8080/"
        },
        "id": "CLHUoDdu1h2t",
        "outputId": "e9452ffd-5ac1-4e85-c195-b4ca53a53155"
      },
      "execution_count": 9,
      "outputs": [
        {
          "output_type": "stream",
          "name": "stdout",
          "text": [
            "Files already downloaded and verified\n"
          ]
        }
      ]
    },
    {
      "cell_type": "code",
      "source": [
        "# Define the model names\n",
        "model_1 = 'ResNet18 (without pretraining)'\n",
        "\n",
        "# Create models\n",
        "model1 = net()\n",
        "\n",
        "# Create optimizers\n",
        "optimizer1 = torch.optim.Adam(model1.parameters(), lr=lr)\n",
        "\n",
        "# Run experiments\n",
        "train_acc_1, test_acc_1, list_loss_1, list_accuracy_1 = run_experiment( model1, max_epochs_1, loss_fc, optimizer1, train_dataloader, test_dataloader)\n",
        "\n",
        "# Display table\n",
        "\n",
        "table = f\"\"\"\\\n",
        "| Model | epochs  | Train accuracy | Test accuracy |\n",
        "|------|------|------|------|\n",
        "|   {model_1} | {max_epochs_1} | {round(train_acc_1*100,2)}% | {round(test_acc_1*100,2)}% |\n",
        "\"\"\"\n",
        "\n",
        "display(Markdown(table))"
      ],
      "metadata": {
        "colab": {
          "base_uri": "https://localhost:8080/",
          "height": 618
        },
        "id": "AahVAsMCnr1x",
        "outputId": "79784d5e-09f0-4677-82b1-f0beb5fc78d2"
      },
      "execution_count": 10,
      "outputs": [
        {
          "output_type": "stream",
          "name": "stdout",
          "text": [
            "Epoch 00001 | Loss: 3.4160, Accuracy = 12.50%\n",
            "Epoch 00002 | Loss: 2.2651, Accuracy = 22.32%\n",
            "Epoch 00003 | Loss: 1.9858, Accuracy = 29.46%\n",
            "Epoch 00004 | Loss: 1.7849, Accuracy = 25.89%\n",
            "Epoch 00005 | Loss: 1.4626, Accuracy = 53.57%\n",
            "Epoch 00006 | Loss: 1.3442, Accuracy = 61.61%\n",
            "Epoch 00007 | Loss: 1.1478, Accuracy = 64.29%\n",
            "Epoch 00008 | Loss: 1.1299, Accuracy = 61.61%\n",
            "Epoch 00009 | Loss: 0.9039, Accuracy = 69.64%\n",
            "Epoch 00010 | Loss: 1.1326, Accuracy = 62.50%\n",
            "Epoch 00011 | Loss: 0.6449, Accuracy = 80.36%\n",
            "Epoch 00012 | Loss: 0.6739, Accuracy = 80.36%\n",
            "Epoch 00013 | Loss: 0.5303, Accuracy = 91.07%\n",
            "Epoch 00014 | Loss: 0.4707, Accuracy = 88.39%\n",
            "Epoch 00015 | Loss: 0.4980, Accuracy = 91.07%\n",
            "Epoch 00016 | Loss: 0.3538, Accuracy = 99.11%\n",
            "Epoch 00017 | Loss: 0.3236, Accuracy = 93.75%\n",
            "Epoch 00018 | Loss: 0.2294, Accuracy = 97.32%\n",
            "Epoch 00019 | Loss: 0.3067, Accuracy = 93.75%\n",
            "Epoch 00020 | Loss: 0.1945, Accuracy = 99.11%\n",
            "Epoch 00021 | Loss: 0.3087, Accuracy = 95.54%\n",
            "Epoch 00022 | Loss: 0.2534, Accuracy = 96.43%\n",
            "Epoch 00023 | Loss: 0.2293, Accuracy = 99.11%\n",
            "Epoch 00024 | Loss: 0.2458, Accuracy = 95.54%\n",
            "Epoch 00025 | Loss: 0.1876, Accuracy = 94.64%\n",
            "Epoch 00026 | Loss: 0.2013, Accuracy = 98.21%\n",
            "Epoch 00027 | Loss: 0.1932, Accuracy = 99.11%\n",
            "Epoch 00028 | Loss: 0.2539, Accuracy = 92.86%\n",
            "Epoch 00029 | Loss: 0.2036, Accuracy = 97.32%\n",
            "Epoch 00030 | Loss: 0.3181, Accuracy = 95.54%\n"
          ]
        },
        {
          "output_type": "stream",
          "name": "stderr",
          "text": [
            "Testing: 100%|██████████| 625/625 [00:07<00:00, 81.90it/s] \n"
          ]
        },
        {
          "output_type": "display_data",
          "data": {
            "text/plain": [
              "<IPython.core.display.Markdown object>"
            ],
            "text/markdown": "| Model | epochs  | Train accuracy | Test accuracy |\n|------|------|------|------|\n|   ResNet18 (without pretraining) | 30 | 95.54% | 24.39% |\n"
          },
          "metadata": {}
        }
      ]
    },
    {
      "cell_type": "markdown",
      "metadata": {
        "id": "-C3mHqCk_2hj"
      },
      "source": [
        "# Transfer learning"
      ]
    },
    {
      "cell_type": "markdown",
      "metadata": {
        "id": "8Tn9pW14_2hj"
      },
      "source": [
        "We propose to use pre-trained models on a classification and generative task, in order to improve the results of our setting."
      ]
    },
    {
      "cell_type": "markdown",
      "metadata": {
        "id": "z8g_3ZDi_2hj"
      },
      "source": [
        "## ImageNet features"
      ]
    },
    {
      "cell_type": "markdown",
      "metadata": {
        "id": "PfYEhdFb_2hj"
      },
      "source": [
        "Now, we will use some pre-trained models on ImageNet and see how well they compare on CIFAR. A list is available on : https://pytorch.org/vision/stable/models.html.\n",
        "\n",
        "__Question 4 (3 points):__ Pick a model from the list above, adapt it for CIFAR10 and retrain its final layer (or a block of layers, depending on the resources to which you have access to). Report its accuracy."
      ]
    },
    {
      "cell_type": "code",
      "source": [
        "batch_size = 64\n",
        "subset_size = 100\n",
        "max_epochs_2 = 30\n",
        "lr=0.01\n",
        "loss_fc = nn.CrossEntropyLoss()"
      ],
      "metadata": {
        "id": "A18wgfdJ3Lzi"
      },
      "execution_count": 11,
      "outputs": []
    },
    {
      "cell_type": "code",
      "source": [
        "preprocess = ResNet18_Weights.DEFAULT.transforms()\n",
        "\n",
        "# Sets\n",
        "trainset = torchvision.datasets.CIFAR10(root='./data', train=True, download=True, transform=preprocess)\n",
        "testset = torchvision.datasets.CIFAR10(root='./data', train=False, download=True, transform=preprocess)\n",
        "\n",
        "# Subset\n",
        "sub_trainset = Subset(trainset, np.arange(subset_size))\n",
        "\n",
        "# DataLoader\n",
        "train_dataloader = DataLoader(sub_trainset, batch_size=batch_size, shuffle=True)\n",
        "test_dataloader = DataLoader(testset, batch_size=batch_size, shuffle=True)"
      ],
      "metadata": {
        "colab": {
          "base_uri": "https://localhost:8080/"
        },
        "id": "d0GFu6hz3NqZ",
        "outputId": "a81b32cb-b935-45f6-ec98-68cfac09a6bc"
      },
      "execution_count": 12,
      "outputs": [
        {
          "output_type": "stream",
          "name": "stdout",
          "text": [
            "Files already downloaded and verified\n",
            "Files already downloaded and verified\n"
          ]
        }
      ]
    },
    {
      "cell_type": "code",
      "source": [
        "# Define the model names\n",
        "model_2 = 'ResNet18 (with pretraining)'\n",
        "\n",
        "# Create models\n",
        "weights = ResNet18_Weights.DEFAULT\n",
        "\n",
        "pretrained_model = resnet18(weights = weights)\n",
        "\n",
        "for param in pretrained_model.parameters():\n",
        "    param.requires_grad = False\n",
        "in_features = pretrained_model.fc.in_features\n",
        "\n",
        "pretrained_model.fc = nn.Linear(in_features=in_features,out_features=10)\n",
        "\n",
        "model2 = pretrained_model\n",
        "\n",
        "# Create optimizers\n",
        "optimizer = torch.optim.Adam(model2.parameters(), lr=lr)\n",
        "\n",
        "# Run experiments\n",
        "train_acc_2, test_acc_2, list_loss_2, list_accuracy_2 = run_experiment( model2, max_epochs_2, loss_fc, optimizer, train_dataloader, test_dataloader,pretrained=True)\n",
        "\n",
        "# Display table\n",
        "\n",
        "table = f\"\"\"\\\n",
        "| Model | epochs  | Train accuracy | Test accuracy |\n",
        "|------|------|------|------|\n",
        "|   {model_1} | {max_epochs_1} | {round(train_acc_1*100,2)}% | {round(test_acc_1*100,2)}% |\n",
        "|   {model_2} | {max_epochs_2} | {round(train_acc_2*100,2)}% | {round(test_acc_2*100,2)}% |\n",
        "\"\"\"\n",
        "\n",
        "display(Markdown(table))"
      ],
      "metadata": {
        "colab": {
          "base_uri": "https://localhost:8080/",
          "height": 699,
          "referenced_widgets": [
            "cbdf0a9b74814a349411ba193a0898d1",
            "5e34a2ed65d646c595b8e0a402a40e23",
            "8457396bad3945318d8ae850cfee04ae",
            "21275593434446afaf24428ca10f387b",
            "e4e7cb206c294d2f885fe3b3b63bd8ec",
            "98d5362bdf4442d68d31e51ff8ba6f06",
            "827d25692e12499a9fee08fdf92a9cff",
            "1bb7d879e43a40eb92e8b9d7bac78ac0",
            "380bdf910a95488387c49f46a381b6b8",
            "ef0007fb26704b25818d745788e531ca",
            "8f18d60d8c054409bf3ac46332391e05"
          ]
        },
        "id": "lcV4r6K5pNT-",
        "outputId": "353e5c83-323f-4304-81f6-39ef84f122a4"
      },
      "execution_count": 13,
      "outputs": [
        {
          "output_type": "stream",
          "name": "stderr",
          "text": [
            "Downloading: \"https://download.pytorch.org/models/resnet18-f37072fd.pth\" to /root/.cache/torch/hub/checkpoints/resnet18-f37072fd.pth\n"
          ]
        },
        {
          "output_type": "display_data",
          "data": {
            "text/plain": [
              "  0%|          | 0.00/44.7M [00:00<?, ?B/s]"
            ],
            "application/vnd.jupyter.widget-view+json": {
              "version_major": 2,
              "version_minor": 0,
              "model_id": "cbdf0a9b74814a349411ba193a0898d1"
            }
          },
          "metadata": {}
        },
        {
          "output_type": "stream",
          "name": "stdout",
          "text": [
            "Epoch 00001 | Loss: 3.3771, Accuracy = 14.93%\n",
            "Epoch 00002 | Loss: 3.6375, Accuracy = 13.98%\n",
            "Epoch 00003 | Loss: 1.9794, Accuracy = 37.41%\n",
            "Epoch 00004 | Loss: 2.1019, Accuracy = 38.37%\n",
            "Epoch 00005 | Loss: 1.7309, Accuracy = 47.40%\n",
            "Epoch 00006 | Loss: 0.9671, Accuracy = 74.57%\n",
            "Epoch 00007 | Loss: 0.7531, Accuracy = 72.05%\n",
            "Epoch 00008 | Loss: 0.6716, Accuracy = 70.14%\n",
            "Epoch 00009 | Loss: 0.4031, Accuracy = 90.19%\n",
            "Epoch 00010 | Loss: 0.3818, Accuracy = 90.36%\n",
            "Epoch 00011 | Loss: 0.3096, Accuracy = 93.49%\n",
            "Epoch 00012 | Loss: 0.2961, Accuracy = 96.27%\n",
            "Epoch 00013 | Loss: 0.2704, Accuracy = 95.05%\n",
            "Epoch 00014 | Loss: 0.2473, Accuracy = 97.22%\n",
            "Epoch 00015 | Loss: 0.2446, Accuracy = 95.83%\n",
            "Epoch 00016 | Loss: 0.1932, Accuracy = 99.22%\n",
            "Epoch 00017 | Loss: 0.1661, Accuracy = 100.00%\n",
            "Epoch 00018 | Loss: 0.1501, Accuracy = 100.00%\n",
            "Epoch 00019 | Loss: 0.1496, Accuracy = 100.00%\n",
            "Epoch 00020 | Loss: 0.1458, Accuracy = 100.00%\n",
            "Epoch 00021 | Loss: 0.1479, Accuracy = 100.00%\n",
            "Epoch 00022 | Loss: 0.0351, Accuracy = 100.00%\n",
            "Epoch 00023 | Loss: 0.0130, Accuracy = 100.00%\n",
            "Epoch 00024 | Loss: 0.0053, Accuracy = 100.00%\n",
            "Epoch 00025 | Loss: 0.0038, Accuracy = 100.00%\n",
            "Epoch 00026 | Loss: 0.0029, Accuracy = 100.00%\n",
            "Epoch 00027 | Loss: 0.0020, Accuracy = 100.00%\n",
            "Epoch 00028 | Loss: 0.0014, Accuracy = 100.00%\n",
            "Epoch 00029 | Loss: 0.0011, Accuracy = 100.00%\n",
            "Epoch 00030 | Loss: 0.0007, Accuracy = 100.00%\n"
          ]
        },
        {
          "output_type": "stream",
          "name": "stderr",
          "text": [
            "Testing: 100%|██████████| 157/157 [00:38<00:00,  4.13it/s]\n"
          ]
        },
        {
          "output_type": "display_data",
          "data": {
            "text/plain": [
              "<IPython.core.display.Markdown object>"
            ],
            "text/markdown": "| Model | epochs  | Train accuracy | Test accuracy |\n|------|------|------|------|\n|   ResNet18 (without pretraining) | 30 | 95.54% | 24.39% |\n|   ResNet18 (with pretraining) | 30 | 100.0% | 53.28% |\n"
          },
          "metadata": {}
        }
      ]
    },
    {
      "cell_type": "markdown",
      "metadata": {
        "id": "SvkuMzLs_2hk"
      },
      "source": [
        "# Incorporating *a priori*\n",
        "Geometrical *a priori* are appealing for image classification tasks. For now, we only consider linear transformations $\\mathcal{T}$ of the inputs $x:\\mathbb{S}^2\\rightarrow\\mathbb{R}$ where $\\mathbb{S}$ is the support of an image, meaning that :\n",
        "\n",
        "$$\\forall u\\in\\mathbb{S}^2,\\mathcal{T}(\\lambda x+\\mu y)(u)=\\lambda \\mathcal{T}(x)(u)+\\mu \\mathcal{T}(y)(u)\\,.$$\n",
        "\n",
        "For instance if an image had an infinite support, a translation $\\mathcal{T}_a$ by $a$ would lead to :\n",
        "\n",
        "$$\\forall u, \\mathcal{T}_a(x)(u)=x(u-a)\\,.$$\n",
        "\n",
        "Otherwise, one has to handle several boundary effects.\n",
        "\n",
        "__Question 5 (1.5 points) :__ Explain the issues when dealing with translations, rotations, scaling effects, color changes on $32\\times32$ images. Propose several ideas to tackle them."
      ]
    },
    {
      "cell_type": "markdown",
      "metadata": {
        "id": "TIaY60o1_2hk"
      },
      "source": [
        "__Answer to question 5:__ When working with small-sized images, such as 32x32 images, several issues can arise when manipulating these images:\n",
        "\n",
        "* By translating naively, some details on the border might disappear and be replaced by blank space.\n",
        "\n",
        "* Rotations can lead to the same problems with the corner of the image.\n",
        "\n",
        "* Scaling can also be problematic in 32x32 images, as downscaling can result in the loss of crucial details, and upsampling can make the image hard to process.\n",
        "\n",
        "* Variations in color within images can make a big difference in how the image looks and make it harder for a computer model to recognize what’s in it.\n",
        "\n",
        "To mitigate those issues, one can \n",
        "\n",
        "* Use data augmentation techniques that keep the important parts of the image while still adding some variety.\n",
        "\n",
        "* Use interpolation techniques to preserve image quality during transformations.\n",
        "\n",
        "* Use adaptive pooling methods to preserve important image features during downscaling, and subsampling techniques during upscaling to avoid excessive increase in image size.\n",
        "\n",
        "* Use color normalization methods to reduce the impact of color variations in images. For example, converting the image to grayscale can help reduce the impact of color variations, or normalize the image's color channels to balance the contributions of each channel."
      ]
    },
    {
      "cell_type": "markdown",
      "metadata": {
        "id": "ds6e6teG_2hk"
      },
      "source": [
        "## Data augmentations"
      ]
    },
    {
      "cell_type": "markdown",
      "metadata": {
        "id": "-Ek5wlOo_2hk"
      },
      "source": [
        "__Question 6 (3 points):__ Propose a set of geometric transformation beyond translation, and incorporate them in your training pipeline. Train the model of the __Question 3__ with them and report the accuracies."
      ]
    },
    {
      "cell_type": "markdown",
      "source": [
        "__Answer to question 6:__ One can propose the following set of geometric transformations:\n",
        "\n",
        "* **Rotation:** Rotate the images by a random angle within a specified range.\n",
        "\n",
        "* **Flipping:** Flip the images horizontally or vertically with a certain probability.\n",
        "\n",
        "* **Color Jit** Change randomly the colors of the pixels with a certain probability."
      ],
      "metadata": {
        "id": "vMrnEccxztp9"
      }
    },
    {
      "cell_type": "code",
      "source": [
        "batch_size = 64\n",
        "subset_size = 100\n",
        "max_epochs_3 = 30\n",
        "lr=0.001\n",
        "loss_fc = nn.CrossEntropyLoss()"
      ],
      "metadata": {
        "id": "i30SyCc__ZJC"
      },
      "execution_count": 14,
      "outputs": []
    },
    {
      "cell_type": "code",
      "execution_count": 15,
      "metadata": {
        "collapsed": true,
        "id": "FqCjrXGk_2hk",
        "colab": {
          "base_uri": "https://localhost:8080/"
        },
        "outputId": "c44f97ec-a748-4808-a0bb-aed7a369883d"
      },
      "outputs": [
        {
          "output_type": "stream",
          "name": "stdout",
          "text": [
            "Files already downloaded and verified\n",
            "Files already downloaded and verified\n"
          ]
        }
      ],
      "source": [
        "#@title Augmented data\n",
        "\n",
        "transform_train = transforms.Compose([\n",
        "    transforms.RandomHorizontalFlip(),\n",
        "    transforms.RandomRotation(10),\n",
        "    transforms.ColorJitter(hue=.02, saturation=.02),\n",
        "    transforms.ToTensor(),\n",
        "     transforms.Normalize((0.5, 0.5, 0.5), (0.5, 0.5, 0.5))])\n",
        "\n",
        "transform_test = transforms.Compose(\n",
        "    [transforms.ToTensor(),\n",
        "     transforms.Normalize((0.5, 0.5, 0.5), (0.5, 0.5, 0.5))])\n",
        "\n",
        "\n",
        "\n",
        "\n",
        "\n",
        "trainset_augmented = torchvision.datasets.CIFAR10(root='./data', download=True, train=True, transform=transform_train)\n",
        "\n",
        "testset = torchvision.datasets.CIFAR10(root='./data', download=True,train=False,transform=transform_test)\n",
        "\n",
        "sub_trainset_augmented = Subset(trainset_augmented, np.arange(subset_size))\n",
        "train_dataloader_augmented = DataLoader(sub_trainset_augmented, batch_size=batch_size, shuffle=True)\n",
        "test_dataloader = DataLoader(testset, batch_size=batch_size, shuffle=True)"
      ]
    },
    {
      "cell_type": "code",
      "source": [
        "# Define the model names\n",
        "model_3 = 'ResNet18 (with data augmentation)'\n",
        "\n",
        "# Create models\n",
        "\n",
        "model = net()\n",
        "\n",
        "model3 = model\n",
        "\n",
        "# Create optimizers\n",
        "optimizer = torch.optim.Adam(model3.parameters(), lr=lr)\n",
        "\n",
        "# Run experiments\n",
        "train_acc_3, test_acc_3, list_loss_3, list_accuracy_3 = run_experiment( model3, max_epochs_3, loss_fc, optimizer,  train_dataloader_augmented, test_dataloader)\n",
        "\n",
        "# Display table\n",
        "\n",
        "table = f\"\"\"\\\n",
        "| Model | epochs  | Train accuracy | Test accuracy |\n",
        "|------|------|------|------|\n",
        "|   {model_1} | {max_epochs_1} | {round(train_acc_1*100,2)}% | {round(test_acc_1*100,2)}% |\n",
        "|   {model_2} | {max_epochs_2} | {round(train_acc_2*100,2)}% | {round(test_acc_2*100,2)}% |\n",
        "|   {model_3} | {max_epochs_3} | {round(train_acc_3*100,2)}% | {round(test_acc_3*100,2)}% |\n",
        "\"\"\"\n",
        "\n",
        "display(Markdown(table))"
      ],
      "metadata": {
        "colab": {
          "base_uri": "https://localhost:8080/",
          "height": 681
        },
        "id": "_c2Cp-YLq6FC",
        "outputId": "62651ba1-881c-46e8-e928-a08432ecf814"
      },
      "execution_count": 16,
      "outputs": [
        {
          "output_type": "stream",
          "name": "stdout",
          "text": [
            "Epoch 00001 | Loss: 2.8218, Accuracy = 14.76%\n",
            "Epoch 00002 | Loss: 2.4306, Accuracy = 23.00%\n",
            "Epoch 00003 | Loss: 1.9171, Accuracy = 33.07%\n",
            "Epoch 00004 | Loss: 1.7087, Accuracy = 38.54%\n",
            "Epoch 00005 | Loss: 1.5409, Accuracy = 47.66%\n",
            "Epoch 00006 | Loss: 1.3401, Accuracy = 52.08%\n",
            "Epoch 00007 | Loss: 1.0412, Accuracy = 63.02%\n",
            "Epoch 00008 | Loss: 0.9322, Accuracy = 72.92%\n",
            "Epoch 00009 | Loss: 0.6910, Accuracy = 77.60%\n",
            "Epoch 00010 | Loss: 0.6488, Accuracy = 72.40%\n",
            "Epoch 00011 | Loss: 0.5943, Accuracy = 81.51%\n",
            "Epoch 00012 | Loss: 0.5091, Accuracy = 83.07%\n",
            "Epoch 00013 | Loss: 0.4587, Accuracy = 85.42%\n",
            "Epoch 00014 | Loss: 0.3940, Accuracy = 91.75%\n",
            "Epoch 00015 | Loss: 0.3941, Accuracy = 89.32%\n",
            "Epoch 00016 | Loss: 0.3002, Accuracy = 96.44%\n",
            "Epoch 00017 | Loss: 0.2717, Accuracy = 96.88%\n",
            "Epoch 00018 | Loss: 0.3154, Accuracy = 94.27%\n",
            "Epoch 00019 | Loss: 0.2390, Accuracy = 96.88%\n",
            "Epoch 00020 | Loss: 0.2092, Accuracy = 97.05%\n",
            "Epoch 00021 | Loss: 0.2217, Accuracy = 99.22%\n",
            "Epoch 00022 | Loss: 0.1907, Accuracy = 98.44%\n",
            "Epoch 00023 | Loss: 0.2643, Accuracy = 96.44%\n",
            "Epoch 00024 | Loss: 0.2278, Accuracy = 97.22%\n",
            "Epoch 00025 | Loss: 0.1909, Accuracy = 97.83%\n",
            "Epoch 00026 | Loss: 0.1701, Accuracy = 99.22%\n",
            "Epoch 00027 | Loss: 0.2330, Accuracy = 97.22%\n",
            "Epoch 00028 | Loss: 0.1721, Accuracy = 99.22%\n",
            "Epoch 00029 | Loss: 0.1828, Accuracy = 98.61%\n",
            "Epoch 00030 | Loss: 0.1750, Accuracy = 98.61%\n"
          ]
        },
        {
          "output_type": "stream",
          "name": "stderr",
          "text": [
            "Testing: 100%|██████████| 157/157 [00:05<00:00, 28.61it/s]\n"
          ]
        },
        {
          "output_type": "display_data",
          "data": {
            "text/plain": [
              "<IPython.core.display.Markdown object>"
            ],
            "text/markdown": "| Model | epochs  | Train accuracy | Test accuracy |\n|------|------|------|------|\n|   ResNet18 (without pretraining) | 30 | 95.54% | 24.39% |\n|   ResNet18 (with pretraining) | 30 | 100.0% | 53.28% |\n|   ResNet18 (with data augmentation) | 30 | 98.61% | 23.53% |\n"
          },
          "metadata": {}
        }
      ]
    },
    {
      "cell_type": "markdown",
      "metadata": {
        "id": "HRUA5I8N_2hk"
      },
      "source": [
        "# Conclusions"
      ]
    },
    {
      "cell_type": "markdown",
      "metadata": {
        "id": "RmyiWAPJ_2hl"
      },
      "source": [
        "__Question 7 (5 points) :__ Write a short report explaining the pros and the cons of each method that you implemented. 25% of the grade of this project will correspond to this question, thus, it should be done carefully. In particular, please add a plot that will summarize all your numerical results."
      ]
    },
    {
      "cell_type": "code",
      "source": [
        "plt.figure(figsize=(10,5))\n",
        "plt.subplot(1,2,1)\n",
        "plt.plot(list_loss_1, label= \" ResNet18 (without pretraining)\")\n",
        "plt.plot(list_loss_2, label = \"ResNet18 (with pretraining)\")\n",
        "plt.plot(list_loss_3, label = \"ResNet18 (with data augmentation)\")\n",
        "plt.title(\"Train loss\")\n",
        "plt.legend()\n",
        "plt.subplot(1,2,2)\n",
        "plt.plot(list_accuracy_1, label= \" ResNet18 (without pretraining)\")\n",
        "plt.plot(list_accuracy_2, label = \"ResNet18 (with pretraining)\")\n",
        "plt.plot(list_accuracy_3, label = \"ResNet18 (with data augmentation)\")\n",
        "plt.title(\"Train accuracy\")\n",
        "plt.legend()\n",
        "plt.plot()"
      ],
      "metadata": {
        "colab": {
          "base_uri": "https://localhost:8080/",
          "height": 353
        },
        "id": "SBUeSwCiuj3j",
        "outputId": "61d17481-252e-441c-dda9-4a2da4919ae1"
      },
      "execution_count": 20,
      "outputs": [
        {
          "output_type": "execute_result",
          "data": {
            "text/plain": [
              "[]"
            ]
          },
          "metadata": {},
          "execution_count": 20
        },
        {
          "output_type": "display_data",
          "data": {
            "text/plain": [
              "<Figure size 720x360 with 2 Axes>"
            ],
            "image/png": "[encoded data removed]"
          },
          "metadata": {
            "needs_background": "light"
          }
        }
      ]
    },
    {
      "cell_type": "markdown",
      "source": [
        "Thoses plots show two things:\n",
        "\n",
        "1. Although the algorithms performs well at start, they all reach a certain level of performance they cannot outpass after around 20 epochs.\n",
        "\n",
        "2. In this case, data augmentation does not improve significantely the performances of the training.\n",
        "\n",
        "We are going to try to explain de differencies between the simple ResNet18 and both the pretrained one and the other with data augmentation:\n",
        "\n",
        "1. Using a pre-trained model like ResNet18 for transfer learning can save time and computational resources. Since the model has already been trained on a large dataset, it has learned to recognize many features and patterns that can be useful for image classification tasks. By fine-tuning the pre-trained model on a new dataset, one can leverage this prior knowledge to achieve better performance with less training data and in less time compared to training a model from scratch. In this example, the problem was that the training dataset was too small. By using a pre-trained model with high performances and applying it to the 100 images CIFAR10 dataset, one can obtain huge improvements within less time. One limitation of transfer learning might be that there not always exist a pre-trained model that suits our datas.\n",
        "\n",
        "2. Data augmentation can help improve the performance of a model by increasing the number of samples inthe dataset existing using data. However, if the dataset is too small, it may not help much because the augmented data may not be diverse enough to improve the model’s performance. The CIFAR-10 dataset consists of 60,000 32x32 color images in 10 different classes. By taking 100 images, the perfect scenario would be 10 images of each. But there are 6,000 images in each class. Thus, even with maximum diversity on the sample, 10 images multiplied by simple data augmentation cannot lead to a significant improvement."
      ],
      "metadata": {
        "id": "Edytl5aIyNxU"
      }
    },
    {
      "cell_type": "markdown",
      "metadata": {
        "id": "sAGp7ddN_2hl"
      },
      "source": [
        "# Weak supervision"
      ]
    },
    {
      "cell_type": "markdown",
      "metadata": {
        "id": "wHQRLbC3_2hl"
      },
      "source": [
        "__Bonus \\[open\\] question (up to 3 points) :__ Pick a weakly supervised method that will potentially use $\\mathcal{X}\\cup\\mathcal{X}_{\\text{train}}$ to train a representation (a subset of $\\mathcal{X}$ is also fine). Evaluate it and report the accuracies. You should be careful in the choice of your method, in order to avoid heavy computational effort."
      ]
    },
    {
      "cell_type": "markdown",
      "metadata": {
        "id": "rbjhfIvN_2hl"
      },
      "source": []
    }
  ],
  "metadata": {
    "kernelspec": {
      "display_name": "Python 3",
      "language": "python",
      "name": "python3"
    },
    "language_info": {
      "codemirror_mode": {
        "name": "ipython",
        "version": 3
      },
      "file_extension": ".py",
      "mimetype": "text/x-python",
      "name": "python",
      "nbconvert_exporter": "python",
      "pygments_lexer": "ipython3",
      "version": "3.7.9"
    },
    "colab": {
      "provenance": []
    },
    "accelerator": "GPU",
    "gpuClass": "standard",
    "widgets": {
      "application/vnd.jupyter.widget-state+json": {
        "a0a735cdb9f440e9adb580505ec746da": {
          "model_module": "@jupyter-widgets/controls",
          "model_name": "HBoxModel",
          "model_module_version": "1.5.0",
          "state": {
            "_dom_classes": [],
            "_model_module": "@jupyter-widgets/controls",
            "_model_module_version": "1.5.0",
            "_model_name": "HBoxModel",
            "_view_count": null,
            "_view_module": "@jupyter-widgets/controls",
            "_view_module_version": "1.5.0",
            "_view_name": "HBoxView",
            "box_style": "",
            "children": [
              "IPY_MODEL_b8296cfc2b6d4713a4f5a0a7dd7d9a6e",
              "IPY_MODEL_e73e667edc4d431e94cdea1a0de2e988",
              "IPY_MODEL_fd50385378fc46bfbce08f51f4875749"
            ],
            "layout": "IPY_MODEL_f3fe5440981b437b9edf1a84fdda441a"
          }
        },
        "b8296cfc2b6d4713a4f5a0a7dd7d9a6e": {
          "model_module": "@jupyter-widgets/controls",
          "model_name": "HTMLModel",
          "model_module_version": "1.5.0",
          "state": {
            "_dom_classes": [],
            "_model_module": "@jupyter-widgets/controls",
            "_model_module_version": "1.5.0",
            "_model_name": "HTMLModel",
            "_view_count": null,
            "_view_module": "@jupyter-widgets/controls",
            "_view_module_version": "1.5.0",
            "_view_name": "HTMLView",
            "description": "",
            "description_tooltip": null,
            "layout": "IPY_MODEL_a80bd6637b764639bbce8d58b6ad9534",
            "placeholder": "​",
            "style": "IPY_MODEL_c616a42b3c7749fda1340100171d28e7",
            "value": "100%"
          }
        },
        "e73e667edc4d431e94cdea1a0de2e988": {
          "model_module": "@jupyter-widgets/controls",
          "model_name": "FloatProgressModel",
          "model_module_version": "1.5.0",
          "state": {
            "_dom_classes": [],
            "_model_module": "@jupyter-widgets/controls",
            "_model_module_version": "1.5.0",
            "_model_name": "FloatProgressModel",
            "_view_count": null,
            "_view_module": "@jupyter-widgets/controls",
            "_view_module_version": "1.5.0",
            "_view_name": "ProgressView",
            "bar_style": "success",
            "description": "",
            "description_tooltip": null,
            "layout": "IPY_MODEL_bbc6b3e3f2804a218b2be27335413df3",
            "max": 170498071,
            "min": 0,
            "orientation": "horizontal",
            "style": "IPY_MODEL_21e955df1b924f37a316fdaa35b5f645",
            "value": 170498071
          }
        },
        "fd50385378fc46bfbce08f51f4875749": {
          "model_module": "@jupyter-widgets/controls",
          "model_name": "HTMLModel",
          "model_module_version": "1.5.0",
          "state": {
            "_dom_classes": [],
            "_model_module": "@jupyter-widgets/controls",
            "_model_module_version": "1.5.0",
            "_model_name": "HTMLModel",
            "_view_count": null,
            "_view_module": "@jupyter-widgets/controls",
            "_view_module_version": "1.5.0",
            "_view_name": "HTMLView",
            "description": "",
            "description_tooltip": null,
            "layout": "IPY_MODEL_9e37203d794d44aea6c9108a0a245703",
            "placeholder": "​",
            "style": "IPY_MODEL_5387696149a04ba8918ea8340f24f5a8",
            "value": " 170498071/170498071 [00:13&lt;00:00, 13833228.04it/s]"
          }
        },
        "f3fe5440981b437b9edf1a84fdda441a": {
          "model_module": "@jupyter-widgets/base",
          "model_name": "LayoutModel",
          "model_module_version": "1.2.0",
          "state": {
            "_model_module": "@jupyter-widgets/base",
            "_model_module_version": "1.2.0",
            "_model_name": "LayoutModel",
            "_view_count": null,
            "_view_module": "@jupyter-widgets/base",
            "_view_module_version": "1.2.0",
            "_view_name": "LayoutView",
            "align_content": null,
            "align_items": null,
            "align_self": null,
            "border": null,
            "bottom": null,
            "display": null,
            "flex": null,
            "flex_flow": null,
            "grid_area": null,
            "grid_auto_columns": null,
            "grid_auto_flow": null,
            "grid_auto_rows": null,
            "grid_column": null,
            "grid_gap": null,
            "grid_row": null,
            "grid_template_areas": null,
            "grid_template_columns": null,
            "grid_template_rows": null,
            "height": null,
            "justify_content": null,
            "justify_items": null,
            "left": null,
            "margin": null,
            "max_height": null,
            "max_width": null,
            "min_height": null,
            "min_width": null,
            "object_fit": null,
            "object_position": null,
            "order": null,
            "overflow": null,
            "overflow_x": null,
            "overflow_y": null,
            "padding": null,
            "right": null,
            "top": null,
            "visibility": null,
            "width": null
          }
        },
        "a80bd6637b764639bbce8d58b6ad9534": {
          "model_module": "@jupyter-widgets/base",
          "model_name": "LayoutModel",
          "model_module_version": "1.2.0",
          "state": {
            "_model_module": "@jupyter-widgets/base",
            "_model_module_version": "1.2.0",
            "_model_name": "LayoutModel",
            "_view_count": null,
            "_view_module": "@jupyter-widgets/base",
            "_view_module_version": "1.2.0",
            "_view_name": "LayoutView",
            "align_content": null,
            "align_items": null,
            "align_self": null,
            "border": null,
            "bottom": null,
            "display": null,
            "flex": null,
            "flex_flow": null,
            "grid_area": null,
            "grid_auto_columns": null,
            "grid_auto_flow": null,
            "grid_auto_rows": null,
            "grid_column": null,
            "grid_gap": null,
            "grid_row": null,
            "grid_template_areas": null,
            "grid_template_columns": null,
            "grid_template_rows": null,
            "height": null,
            "justify_content": null,
            "justify_items": null,
            "left": null,
            "margin": null,
            "max_height": null,
            "max_width": null,
            "min_height": null,
            "min_width": null,
            "object_fit": null,
            "object_position": null,
            "order": null,
            "overflow": null,
            "overflow_x": null,
            "overflow_y": null,
            "padding": null,
            "right": null,
            "top": null,
            "visibility": null,
            "width": null
          }
        },
        "c616a42b3c7749fda1340100171d28e7": {
          "model_module": "@jupyter-widgets/controls",
          "model_name": "DescriptionStyleModel",
          "model_module_version": "1.5.0",
          "state": {
            "_model_module": "@jupyter-widgets/controls",
            "_model_module_version": "1.5.0",
            "_model_name": "DescriptionStyleModel",
            "_view_count": null,
            "_view_module": "@jupyter-widgets/base",
            "_view_module_version": "1.2.0",
            "_view_name": "StyleView",
            "description_width": ""
          }
        },
        "bbc6b3e3f2804a218b2be27335413df3": {
          "model_module": "@jupyter-widgets/base",
          "model_name": "LayoutModel",
          "model_module_version": "1.2.0",
          "state": {
            "_model_module": "@jupyter-widgets/base",
            "_model_module_version": "1.2.0",
            "_model_name": "LayoutModel",
            "_view_count": null,
            "_view_module": "@jupyter-widgets/base",
            "_view_module_version": "1.2.0",
            "_view_name": "LayoutView",
            "align_content": null,
            "align_items": null,
            "align_self": null,
            "border": null,
            "bottom": null,
            "display": null,
            "flex": null,
            "flex_flow": null,
            "grid_area": null,
            "grid_auto_columns": null,
            "grid_auto_flow": null,
            "grid_auto_rows": null,
            "grid_column": null,
            "grid_gap": null,
            "grid_row": null,
            "grid_template_areas": null,
            "grid_template_columns": null,
            "grid_template_rows": null,
            "height": null,
            "justify_content": null,
            "justify_items": null,
            "left": null,
            "margin": null,
            "max_height": null,
            "max_width": null,
            "min_height": null,
            "min_width": null,
            "object_fit": null,
            "object_position": null,
            "order": null,
            "overflow": null,
            "overflow_x": null,
            "overflow_y": null,
            "padding": null,
            "right": null,
            "top": null,
            "visibility": null,
            "width": null
          }
        },
        "21e955df1b924f37a316fdaa35b5f645": {
          "model_module": "@jupyter-widgets/controls",
          "model_name": "ProgressStyleModel",
          "model_module_version": "1.5.0",
          "state": {
            "_model_module": "@jupyter-widgets/controls",
            "_model_module_version": "1.5.0",
            "_model_name": "ProgressStyleModel",
            "_view_count": null,
            "_view_module": "@jupyter-widgets/base",
            "_view_module_version": "1.2.0",
            "_view_name": "StyleView",
            "bar_color": null,
            "description_width": ""
          }
        },
        "9e37203d794d44aea6c9108a0a245703": {
          "model_module": "@jupyter-widgets/base",
          "model_name": "LayoutModel",
          "model_module_version": "1.2.0",
          "state": {
            "_model_module": "@jupyter-widgets/base",
            "_model_module_version": "1.2.0",
            "_model_name": "LayoutModel",
            "_view_count": null,
            "_view_module": "@jupyter-widgets/base",
            "_view_module_version": "1.2.0",
            "_view_name": "LayoutView",
            "align_content": null,
            "align_items": null,
            "align_self": null,
            "border": null,
            "bottom": null,
            "display": null,
            "flex": null,
            "flex_flow": null,
            "grid_area": null,
            "grid_auto_columns": null,
            "grid_auto_flow": null,
            "grid_auto_rows": null,
            "grid_column": null,
            "grid_gap": null,
            "grid_row": null,
            "grid_template_areas": null,
            "grid_template_columns": null,
            "grid_template_rows": null,
            "height": null,
            "justify_content": null,
            "justify_items": null,
            "left": null,
            "margin": null,
            "max_height": null,
            "max_width": null,
            "min_height": null,
            "min_width": null,
            "object_fit": null,
            "object_position": null,
            "order": null,
            "overflow": null,
            "overflow_x": null,
            "overflow_y": null,
            "padding": null,
            "right": null,
            "top": null,
            "visibility": null,
            "width": null
          }
        },
        "5387696149a04ba8918ea8340f24f5a8": {
          "model_module": "@jupyter-widgets/controls",
          "model_name": "DescriptionStyleModel",
          "model_module_version": "1.5.0",
          "state": {
            "_model_module": "@jupyter-widgets/controls",
            "_model_module_version": "1.5.0",
            "_model_name": "DescriptionStyleModel",
            "_view_count": null,
            "_view_module": "@jupyter-widgets/base",
            "_view_module_version": "1.2.0",
            "_view_name": "StyleView",
            "description_width": ""
          }
        },
        "cbdf0a9b74814a349411ba193a0898d1": {
          "model_module": "@jupyter-widgets/controls",
          "model_name": "HBoxModel",
          "model_module_version": "1.5.0",
          "state": {
            "_dom_classes": [],
            "_model_module": "@jupyter-widgets/controls",
            "_model_module_version": "1.5.0",
            "_model_name": "HBoxModel",
            "_view_count": null,
            "_view_module": "@jupyter-widgets/controls",
            "_view_module_version": "1.5.0",
            "_view_name": "HBoxView",
            "box_style": "",
            "children": [
              "IPY_MODEL_5e34a2ed65d646c595b8e0a402a40e23",
              "IPY_MODEL_8457396bad3945318d8ae850cfee04ae",
              "IPY_MODEL_21275593434446afaf24428ca10f387b"
            ],
            "layout": "IPY_MODEL_e4e7cb206c294d2f885fe3b3b63bd8ec"
          }
        },
        "5e34a2ed65d646c595b8e0a402a40e23": {
          "model_module": "@jupyter-widgets/controls",
          "model_name": "HTMLModel",
          "model_module_version": "1.5.0",
          "state": {
            "_dom_classes": [],
            "_model_module": "@jupyter-widgets/controls",
            "_model_module_version": "1.5.0",
            "_model_name": "HTMLModel",
            "_view_count": null,
            "_view_module": "@jupyter-widgets/controls",
            "_view_module_version": "1.5.0",
            "_view_name": "HTMLView",
            "description": "",
            "description_tooltip": null,
            "layout": "IPY_MODEL_98d5362bdf4442d68d31e51ff8ba6f06",
            "placeholder": "​",
            "style": "IPY_MODEL_827d25692e12499a9fee08fdf92a9cff",
            "value": "100%"
          }
        },
        "8457396bad3945318d8ae850cfee04ae": {
          "model_module": "@jupyter-widgets/controls",
          "model_name": "FloatProgressModel",
          "model_module_version": "1.5.0",
          "state": {
            "_dom_classes": [],
            "_model_module": "@jupyter-widgets/controls",
            "_model_module_version": "1.5.0",
            "_model_name": "FloatProgressModel",
            "_view_count": null,
            "_view_module": "@jupyter-widgets/controls",
            "_view_module_version": "1.5.0",
            "_view_name": "ProgressView",
            "bar_style": "success",
            "description": "",
            "description_tooltip": null,
            "layout": "IPY_MODEL_1bb7d879e43a40eb92e8b9d7bac78ac0",
            "max": 46830571,
            "min": 0,
            "orientation": "horizontal",
            "style": "IPY_MODEL_380bdf910a95488387c49f46a381b6b8",
            "value": 46830571
          }
        },
        "21275593434446afaf24428ca10f387b": {
          "model_module": "@jupyter-widgets/controls",
          "model_name": "HTMLModel",
          "model_module_version": "1.5.0",
          "state": {
            "_dom_classes": [],
            "_model_module": "@jupyter-widgets/controls",
            "_model_module_version": "1.5.0",
            "_model_name": "HTMLModel",
            "_view_count": null,
            "_view_module": "@jupyter-widgets/controls",
            "_view_module_version": "1.5.0",
            "_view_name": "HTMLView",
            "description": "",
            "description_tooltip": null,
            "layout": "IPY_MODEL_ef0007fb26704b25818d745788e531ca",
            "placeholder": "​",
            "style": "IPY_MODEL_8f18d60d8c054409bf3ac46332391e05",
            "value": " 44.7M/44.7M [00:00&lt;00:00, 221MB/s]"
          }
        },
        "e4e7cb206c294d2f885fe3b3b63bd8ec": {
          "model_module": "@jupyter-widgets/base",
          "model_name": "LayoutModel",
          "model_module_version": "1.2.0",
          "state": {
            "_model_module": "@jupyter-widgets/base",
            "_model_module_version": "1.2.0",
            "_model_name": "LayoutModel",
            "_view_count": null,
            "_view_module": "@jupyter-widgets/base",
            "_view_module_version": "1.2.0",
            "_view_name": "LayoutView",
            "align_content": null,
            "align_items": null,
            "align_self": null,
            "border": null,
            "bottom": null,
            "display": null,
            "flex": null,
            "flex_flow": null,
            "grid_area": null,
            "grid_auto_columns": null,
            "grid_auto_flow": null,
            "grid_auto_rows": null,
            "grid_column": null,
            "grid_gap": null,
            "grid_row": null,
            "grid_template_areas": null,
            "grid_template_columns": null,
            "grid_template_rows": null,
            "height": null,
            "justify_content": null,
            "justify_items": null,
            "left": null,
            "margin": null,
            "max_height": null,
            "max_width": null,
            "min_height": null,
            "min_width": null,
            "object_fit": null,
            "object_position": null,
            "order": null,
            "overflow": null,
            "overflow_x": null,
            "overflow_y": null,
            "padding": null,
            "right": null,
            "top": null,
            "visibility": null,
            "width": null
          }
        },
        "98d5362bdf4442d68d31e51ff8ba6f06": {
          "model_module": "@jupyter-widgets/base",
          "model_name": "LayoutModel",
          "model_module_version": "1.2.0",
          "state": {
            "_model_module": "@jupyter-widgets/base",
            "_model_module_version": "1.2.0",
            "_model_name": "LayoutModel",
            "_view_count": null,
            "_view_module": "@jupyter-widgets/base",
            "_view_module_version": "1.2.0",
            "_view_name": "LayoutView",
            "align_content": null,
            "align_items": null,
            "align_self": null,
            "border": null,
            "bottom": null,
            "display": null,
            "flex": null,
            "flex_flow": null,
            "grid_area": null,
            "grid_auto_columns": null,
            "grid_auto_flow": null,
            "grid_auto_rows": null,
            "grid_column": null,
            "grid_gap": null,
            "grid_row": null,
            "grid_template_areas": null,
            "grid_template_columns": null,
            "grid_template_rows": null,
            "height": null,
            "justify_content": null,
            "justify_items": null,
            "left": null,
            "margin": null,
            "max_height": null,
            "max_width": null,
            "min_height": null,
            "min_width": null,
            "object_fit": null,
            "object_position": null,
            "order": null,
            "overflow": null,
            "overflow_x": null,
            "overflow_y": null,
            "padding": null,
            "right": null,
            "top": null,
            "visibility": null,
            "width": null
          }
        },
        "827d25692e12499a9fee08fdf92a9cff": {
          "model_module": "@jupyter-widgets/controls",
          "model_name": "DescriptionStyleModel",
          "model_module_version": "1.5.0",
          "state": {
            "_model_module": "@jupyter-widgets/controls",
            "_model_module_version": "1.5.0",
            "_model_name": "DescriptionStyleModel",
            "_view_count": null,
            "_view_module": "@jupyter-widgets/base",
            "_view_module_version": "1.2.0",
            "_view_name": "StyleView",
            "description_width": ""
          }
        },
        "1bb7d879e43a40eb92e8b9d7bac78ac0": {
          "model_module": "@jupyter-widgets/base",
          "model_name": "LayoutModel",
          "model_module_version": "1.2.0",
          "state": {
            "_model_module": "@jupyter-widgets/base",
            "_model_module_version": "1.2.0",
            "_model_name": "LayoutModel",
            "_view_count": null,
            "_view_module": "@jupyter-widgets/base",
            "_view_module_version": "1.2.0",
            "_view_name": "LayoutView",
            "align_content": null,
            "align_items": null,
            "align_self": null,
            "border": null,
            "bottom": null,
            "display": null,
            "flex": null,
            "flex_flow": null,
            "grid_area": null,
            "grid_auto_columns": null,
            "grid_auto_flow": null,
            "grid_auto_rows": null,
            "grid_column": null,
            "grid_gap": null,
            "grid_row": null,
            "grid_template_areas": null,
            "grid_template_columns": null,
            "grid_template_rows": null,
            "height": null,
            "justify_content": null,
            "justify_items": null,
            "left": null,
            "margin": null,
            "max_height": null,
            "max_width": null,
            "min_height": null,
            "min_width": null,
            "object_fit": null,
            "object_position": null,
            "order": null,
            "overflow": null,
            "overflow_x": null,
            "overflow_y": null,
            "padding": null,
            "right": null,
            "top": null,
            "visibility": null,
            "width": null
          }
        },
        "380bdf910a95488387c49f46a381b6b8": {
          "model_module": "@jupyter-widgets/controls",
          "model_name": "ProgressStyleModel",
          "model_module_version": "1.5.0",
          "state": {
            "_model_module": "@jupyter-widgets/controls",
            "_model_module_version": "1.5.0",
            "_model_name": "ProgressStyleModel",
            "_view_count": null,
            "_view_module": "@jupyter-widgets/base",
            "_view_module_version": "1.2.0",
            "_view_name": "StyleView",
            "bar_color": null,
            "description_width": ""
          }
        },
        "ef0007fb26704b25818d745788e531ca": {
          "model_module": "@jupyter-widgets/base",
          "model_name": "LayoutModel",
          "model_module_version": "1.2.0",
          "state": {
            "_model_module": "@jupyter-widgets/base",
            "_model_module_version": "1.2.0",
            "_model_name": "LayoutModel",
            "_view_count": null,
            "_view_module": "@jupyter-widgets/base",
            "_view_module_version": "1.2.0",
            "_view_name": "LayoutView",
            "align_content": null,
            "align_items": null,
            "align_self": null,
            "border": null,
            "bottom": null,
            "display": null,
            "flex": null,
            "flex_flow": null,
            "grid_area": null,
            "grid_auto_columns": null,
            "grid_auto_flow": null,
            "grid_auto_rows": null,
            "grid_column": null,
            "grid_gap": null,
            "grid_row": null,
            "grid_template_areas": null,
            "grid_template_columns": null,
            "grid_template_rows": null,
            "height": null,
            "justify_content": null,
            "justify_items": null,
            "left": null,
            "margin": null,
            "max_height": null,
            "max_width": null,
            "min_height": null,
            "min_width": null,
            "object_fit": null,
            "object_position": null,
            "order": null,
            "overflow": null,
            "overflow_x": null,
            "overflow_y": null,
            "padding": null,
            "right": null,
            "top": null,
            "visibility": null,
            "width": null
          }
        },
        "8f18d60d8c054409bf3ac46332391e05": {
          "model_module": "@jupyter-widgets/controls",
          "model_name": "DescriptionStyleModel",
          "model_module_version": "1.5.0",
          "state": {
            "_model_module": "@jupyter-widgets/controls",
            "_model_module_version": "1.5.0",
            "_model_name": "DescriptionStyleModel",
            "_view_count": null,
            "_view_module": "@jupyter-widgets/base",
            "_view_module_version": "1.2.0",
            "_view_name": "StyleView",
            "description_width": ""
          }
        }
      }
    }
  },
  "nbformat": 4,
  "nbformat_minor": 0
}